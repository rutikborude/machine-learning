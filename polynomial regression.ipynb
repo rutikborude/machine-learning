{
 "cells": [
  {
   "cell_type": "code",
   "execution_count": 63,
   "id": "256eaaff",
   "metadata": {},
   "outputs": [],
   "source": [
    "import pandas as pd\n",
    "import numpy as np\n",
    "import matplotlib.pyplot as plt"
   ]
  },
  {
   "cell_type": "code",
   "execution_count": 64,
   "id": "f4af1860",
   "metadata": {},
   "outputs": [],
   "source": [
    "X=[1,2,3,4,5,6,7,8,9,10,11,12,13,14,15,16,17]\n",
    "y=[100,90,80,60,60,55,60,65,70,70,75,76,78,90,99,99,100]"
   ]
  },
  {
   "cell_type": "code",
   "execution_count": 65,
   "id": "0172020b",
   "metadata": {},
   "outputs": [
    {
     "data": {
      "image/png": "[encoded data removed]",
      "text/plain": [
       "<Figure size 432x288 with 1 Axes>"
      ]
     },
     "metadata": {
      "needs_background": "light"
     },
     "output_type": "display_data"
    }
   ],
   "source": [
    "plt.scatter(X,y)\n",
    "plt.show()"
   ]
  },
  {
   "cell_type": "code",
   "execution_count": 66,
   "id": "6632e47a",
   "metadata": {},
   "outputs": [],
   "source": [
    "df1=pd.Series(X,name='Time')\n",
    "df2=pd.Series(y,name='Speed')"
   ]
  },
  {
   "cell_type": "code",
   "execution_count": 67,
   "id": "c1870948",
   "metadata": {
    "scrolled": true
   },
   "outputs": [
    {
     "data": {
      "text/html": [
       "<div>\n",
       "<style scoped>\n",
       "    .dataframe tbody tr th:only-of-type {\n",
       "        vertical-align: middle;\n",
       "    }\n",
       "\n",
       "    .dataframe tbody tr th {\n",
       "        vertical-align: top;\n",
       "    }\n",
       "\n",
       "    .dataframe thead th {\n",
       "        text-align: right;\n",
       "    }\n",
       "</style>\n",
       "<table border=\"1\" class=\"dataframe\">\n",
       "  <thead>\n",
       "    <tr style=\"text-align: right;\">\n",
       "      <th></th>\n",
       "      <th>Time</th>\n",
       "      <th>Speed</th>\n",
       "    </tr>\n",
       "  </thead>\n",
       "  <tbody>\n",
       "    <tr>\n",
       "      <th>0</th>\n",
       "      <td>1</td>\n",
       "      <td>100</td>\n",
       "    </tr>\n",
       "    <tr>\n",
       "      <th>1</th>\n",
       "      <td>2</td>\n",
       "      <td>90</td>\n",
       "    </tr>\n",
       "    <tr>\n",
       "      <th>2</th>\n",
       "      <td>3</td>\n",
       "      <td>80</td>\n",
       "    </tr>\n",
       "    <tr>\n",
       "      <th>3</th>\n",
       "      <td>4</td>\n",
       "      <td>60</td>\n",
       "    </tr>\n",
       "    <tr>\n",
       "      <th>4</th>\n",
       "      <td>5</td>\n",
       "      <td>60</td>\n",
       "    </tr>\n",
       "  </tbody>\n",
       "</table>\n",
       "</div>"
      ],
      "text/plain": [
       "   Time  Speed\n",
       "0     1    100\n",
       "1     2     90\n",
       "2     3     80\n",
       "3     4     60\n",
       "4     5     60"
      ]
     },
     "execution_count": 67,
     "metadata": {},
     "output_type": "execute_result"
    }
   ],
   "source": [
    "df=pd.concat([df1,df2],axis=1)\n",
    "df.head()"
   ]
  },
  {
   "cell_type": "code",
   "execution_count": 68,
   "id": "d80f27f4",
   "metadata": {},
   "outputs": [],
   "source": [
    "from sklearn.preprocessing import PolynomialFeatures"
   ]
  },
  {
   "cell_type": "code",
   "execution_count": 83,
   "id": "e1cb6a93",
   "metadata": {},
   "outputs": [],
   "source": [
    "poly=PolynomialFeatures(degree=3)"
   ]
  },
  {
   "cell_type": "code",
   "execution_count": 84,
   "id": "a7bc790d",
   "metadata": {},
   "outputs": [],
   "source": [
    "polyX=poly.fit_transform(df[['Time']])"
   ]
  },
  {
   "cell_type": "code",
   "execution_count": 85,
   "id": "d29c693e",
   "metadata": {},
   "outputs": [],
   "source": [
    "from sklearn.linear_model import LinearRegression"
   ]
  },
  {
   "cell_type": "code",
   "execution_count": 86,
   "id": "d2114f59",
   "metadata": {},
   "outputs": [],
   "source": [
    "model=LinearRegression()"
   ]
  },
  {
   "cell_type": "code",
   "execution_count": 87,
   "id": "1a6dde89",
   "metadata": {},
   "outputs": [
    {
     "data": {
      "text/plain": [
       "LinearRegression()"
      ]
     },
     "execution_count": 87,
     "metadata": {},
     "output_type": "execute_result"
    }
   ],
   "source": [
    "model.fit(polyX,df[['Speed']])"
   ]
  },
  {
   "cell_type": "code",
   "execution_count": 88,
   "id": "91332b03",
   "metadata": {},
   "outputs": [
    {
     "data": {
      "text/plain": [
       "array([[  0.        , -21.46529928,   2.2378741 ,  -0.06153251]])"
      ]
     },
     "execution_count": 88,
     "metadata": {},
     "output_type": "execute_result"
    }
   ],
   "source": [
    "coef=model.coef_\n",
    "coef"
   ]
  },
  {
   "cell_type": "code",
   "execution_count": 89,
   "id": "8807a9a5",
   "metadata": {},
   "outputs": [
    {
     "data": {
      "text/plain": [
       "array([121.])"
      ]
     },
     "execution_count": 89,
     "metadata": {},
     "output_type": "execute_result"
    }
   ],
   "source": [
    "intercept=model.intercept_\n",
    "intercept"
   ]
  },
  {
   "cell_type": "code",
   "execution_count": 90,
   "id": "b946bfe2",
   "metadata": {},
   "outputs": [
    {
     "data": {
      "text/plain": [
       "array([ 1.        ,  1.16161616,  1.32323232,  1.48484848,  1.64646465,\n",
       "        1.80808081,  1.96969697,  2.13131313,  2.29292929,  2.45454545,\n",
       "        2.61616162,  2.77777778,  2.93939394,  3.1010101 ,  3.26262626,\n",
       "        3.42424242,  3.58585859,  3.74747475,  3.90909091,  4.07070707,\n",
       "        4.23232323,  4.39393939,  4.55555556,  4.71717172,  4.87878788,\n",
       "        5.04040404,  5.2020202 ,  5.36363636,  5.52525253,  5.68686869,\n",
       "        5.84848485,  6.01010101,  6.17171717,  6.33333333,  6.49494949,\n",
       "        6.65656566,  6.81818182,  6.97979798,  7.14141414,  7.3030303 ,\n",
       "        7.46464646,  7.62626263,  7.78787879,  7.94949495,  8.11111111,\n",
       "        8.27272727,  8.43434343,  8.5959596 ,  8.75757576,  8.91919192,\n",
       "        9.08080808,  9.24242424,  9.4040404 ,  9.56565657,  9.72727273,\n",
       "        9.88888889, 10.05050505, 10.21212121, 10.37373737, 10.53535354,\n",
       "       10.6969697 , 10.85858586, 11.02020202, 11.18181818, 11.34343434,\n",
       "       11.50505051, 11.66666667, 11.82828283, 11.98989899, 12.15151515,\n",
       "       12.31313131, 12.47474747, 12.63636364, 12.7979798 , 12.95959596,\n",
       "       13.12121212, 13.28282828, 13.44444444, 13.60606061, 13.76767677,\n",
       "       13.92929293, 14.09090909, 14.25252525, 14.41414141, 14.57575758,\n",
       "       14.73737374, 14.8989899 , 15.06060606, 15.22222222, 15.38383838,\n",
       "       15.54545455, 15.70707071, 15.86868687, 16.03030303, 16.19191919,\n",
       "       16.35353535, 16.51515152, 16.67676768, 16.83838384, 17.        ])"
      ]
     },
     "execution_count": 90,
     "metadata": {},
     "output_type": "execute_result"
    }
   ],
   "source": [
    "line=np.linspace(1,17,100)\n",
    "line"
   ]
  },
  {
   "cell_type": "code",
   "execution_count": 91,
   "id": "d5abd200",
   "metadata": {},
   "outputs": [
    {
     "data": {
      "text/plain": [
       "array([101.77257482,  99.08524157,  96.5148139 ,  94.0612918 ,\n",
       "        91.72467528,  89.50496433,  87.40215896,  85.41625916,\n",
       "        83.54726494,  81.79517629,  80.15999322,  78.64171572,\n",
       "        77.24034379,  75.95587744,  74.78831667,  73.73766147,\n",
       "        72.80391184,  71.98706779,  71.28712931,  70.70409641,\n",
       "        70.23796909,  69.88874733,  69.65643116,  69.54102055,\n",
       "        69.54251552,  69.66091607,  69.89622219,  70.24843389,\n",
       "        70.71755116,  71.303574  ,  72.00650242,  72.82633642,\n",
       "        73.76307599,  74.81672113,  75.98727185,  77.27472815,\n",
       "        78.67909001,  80.20035746,  81.83853047,  83.59360907,\n",
       "        85.46559323,  87.45448298,  89.56027829,  91.78297918,\n",
       "        94.12258565,  96.57909769,  99.1525153 , 101.84283849,\n",
       "       104.65006726, 107.5742016 , 110.61524151, 113.773187  ,\n",
       "       117.04803807, 120.4397947 , 123.94845692, 127.5740247 ,\n",
       "       131.31649807, 135.175877  , 139.15216152, 143.2453516 ,\n",
       "       147.45544726, 151.7824485 , 156.22635531, 160.78716769,\n",
       "       165.46488565, 170.25950919, 175.1710383 , 180.19947298,\n",
       "       185.34481324, 190.60705907, 195.98621048, 201.48226747,\n",
       "       207.09523002, 212.82509816, 218.67187186, 224.63555114,\n",
       "       230.716136  , 236.91362643, 243.22802244, 249.65932402,\n",
       "       256.20753117, 262.8726439 , 269.65466221, 276.55358609,\n",
       "       283.56941554, 290.70215057, 297.95179117, 305.31833735,\n",
       "       312.8017891 , 320.40214643, 328.11940933, 335.95357781,\n",
       "       343.90465186, 351.97263149, 360.15751669, 368.45930747,\n",
       "       376.87800382, 385.41360574, 394.06611324, 402.83552632])"
      ]
     },
     "execution_count": 91,
     "metadata": {},
     "output_type": "execute_result"
    }
   ],
   "source": [
    "y_pred = coef[0][1]*line+coef[0][2]*line**2+intercept\n",
    "y_pred"
   ]
  },
  {
   "cell_type": "code",
   "execution_count": 92,
   "id": "d3f13d14",
   "metadata": {},
   "outputs": [
    {
     "data": {
      "image/png": "[encoded data removed]",
      "text/plain": [
       "<Figure size 432x288 with 1 Axes>"
      ]
     },
     "metadata": {
      "needs_background": "light"
     },
     "output_type": "display_data"
    }
   ],
   "source": [
    "plt.scatter(X,y)\n",
    "plt.plot(line,y_pred,color='r')\n",
    "plt.show()"
   ]
  },
  {
   "cell_type": "code",
   "execution_count": 93,
   "id": "c9d83015",
   "metadata": {},
   "outputs": [
    {
     "data": {
      "text/plain": [
       "0.938565619778613"
      ]
     },
     "execution_count": 93,
     "metadata": {},
     "output_type": "execute_result"
    }
   ],
   "source": [
    "model.score(polyX,df[['Speed']])"
   ]
  },
  {
   "cell_type": "code",
   "execution_count": 95,
   "id": "6caf9ec5",
   "metadata": {},
   "outputs": [
    {
     "data": {
      "text/plain": [
       "array([[75.08359133]])"
      ]
     },
     "execution_count": 95,
     "metadata": {},
     "output_type": "execute_result"
    }
   ],
   "source": [
    "model.predict([[1,3,9,27]])"
   ]
  },
  {
   "cell_type": "code",
   "execution_count": null,
   "id": "685dd444",
   "metadata": {},
   "outputs": [],
   "source": []
  },
  {
   "cell_type": "code",
   "execution_count": null,
   "id": "8c275a6f",
   "metadata": {},
   "outputs": [],
   "source": []
  }
 ],
 "metadata": {
  "kernelspec": {
   "display_name": "Python 3 (ipykernel)",
   "language": "python",
   "name": "python3"
  },
  "language_info": {
   "codemirror_mode": {
    "name": "ipython",
    "version": 3
   },
   "file_extension": ".py",
   "mimetype": "text/x-python",
   "name": "python",
   "nbconvert_exporter": "python",
   "pygments_lexer": "ipython3",
   "version": "3.9.12"
  }
 },
 "nbformat": 4,
 "nbformat_minor": 5
}
