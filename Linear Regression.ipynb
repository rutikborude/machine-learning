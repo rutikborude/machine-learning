{
 "cells": [
  {
   "cell_type": "markdown",
   "id": "511d2f25",
   "metadata": {},
   "source": [
    "Linear Regression:\n",
    "               Linear regression is used to check relationship between input and output variables."
   ]
  },
  {
   "cell_type": "markdown",
   "id": "2f7213d9",
   "metadata": {},
   "source": [
    "# Using Scipy"
   ]
  },
  {
   "cell_type": "code",
   "execution_count": 40,
   "id": "6c6efa91",
   "metadata": {},
   "outputs": [],
   "source": [
    "from scipy import stats\n",
    "import numpy as np\n",
    "import matplotlib.pyplot as plt"
   ]
  },
  {
   "cell_type": "code",
   "execution_count": 41,
   "id": "0e820b0b",
   "metadata": {},
   "outputs": [],
   "source": [
    "age=np.array([5,7,8,7,2,17,2,9,4,11,12,9,6])\n",
    "speed=np.array([99,86,87,88,111,86,103,87,94,78,77,85,86])"
   ]
  },
  {
   "cell_type": "code",
   "execution_count": 42,
   "id": "3f80f0fa",
   "metadata": {},
   "outputs": [
    {
     "data": {
      "image/png": "[encoded data removed]",
      "text/plain": [
       "<Figure size 432x288 with 1 Axes>"
      ]
     },
     "metadata": {
      "needs_background": "light"
     },
     "output_type": "display_data"
    }
   ],
   "source": [
    "plt.scatter(age,speed)\n",
    "plt.show()"
   ]
  },
  {
   "cell_type": "code",
   "execution_count": 43,
   "id": "1b12d7a0",
   "metadata": {},
   "outputs": [],
   "source": [
    "slope,intercept,p,r,std_error=stats.linregress(age,speed)"
   ]
  },
  {
   "cell_type": "code",
   "execution_count": 44,
   "id": "8ba79fe9",
   "metadata": {},
   "outputs": [
    {
     "data": {
      "text/plain": [
       "-1.7512877115526118"
      ]
     },
     "execution_count": 44,
     "metadata": {},
     "output_type": "execute_result"
    }
   ],
   "source": [
    "m=slope\n",
    "m"
   ]
  },
  {
   "cell_type": "code",
   "execution_count": 45,
   "id": "268c95e7",
   "metadata": {},
   "outputs": [
    {
     "data": {
      "text/plain": [
       "103.10596026490066"
      ]
     },
     "execution_count": 45,
     "metadata": {},
     "output_type": "execute_result"
    }
   ],
   "source": [
    "c=intercept\n",
    "c"
   ]
  },
  {
   "cell_type": "code",
   "execution_count": 46,
   "id": "a6dc88a0",
   "metadata": {},
   "outputs": [
    {
     "data": {
      "text/plain": [
       "0.453536157607742"
      ]
     },
     "execution_count": 46,
     "metadata": {},
     "output_type": "execute_result"
    }
   ],
   "source": [
    "std_error"
   ]
  },
  {
   "cell_type": "code",
   "execution_count": 47,
   "id": "5700452c",
   "metadata": {},
   "outputs": [
    {
     "data": {
      "text/plain": [
       "0.0026468739224561064"
      ]
     },
     "execution_count": 47,
     "metadata": {},
     "output_type": "execute_result"
    }
   ],
   "source": [
    "r"
   ]
  },
  {
   "cell_type": "code",
   "execution_count": 16,
   "id": "d2d4d6f3",
   "metadata": {},
   "outputs": [
    {
     "data": {
      "text/plain": [
       "-0.758591524376155"
      ]
     },
     "execution_count": 16,
     "metadata": {},
     "output_type": "execute_result"
    }
   ],
   "source": [
    "p"
   ]
  },
  {
   "cell_type": "markdown",
   "id": "13406262",
   "metadata": {},
   "source": [
    "for calculating y_pred values we create function :"
   ]
  },
  {
   "cell_type": "code",
   "execution_count": 18,
   "id": "f1850f8d",
   "metadata": {},
   "outputs": [
    {
     "data": {
      "text/plain": [
       "array([94.34952171, 90.84694628, 89.09565857, 90.84694628, 99.60338484,\n",
       "       73.33406917, 99.60338484, 87.34437086, 96.10080942, 83.84179544,\n",
       "       82.09050773, 87.34437086, 92.598234  ])"
      ]
     },
     "execution_count": 18,
     "metadata": {},
     "output_type": "execute_result"
    }
   ],
   "source": [
    "def prediction(x):\n",
    "    return x*slope+intercept\n",
    "y_pred=prediction(age)\n",
    "y_pred"
   ]
  },
  {
   "cell_type": "code",
   "execution_count": 21,
   "id": "e8caf0b2",
   "metadata": {},
   "outputs": [
    {
     "data": {
      "image/png": "[encoded data removed]",
      "text/plain": [
       "<Figure size 432x288 with 1 Axes>"
      ]
     },
     "metadata": {
      "needs_background": "light"
     },
     "output_type": "display_data"
    }
   ],
   "source": [
    "plt.scatter(age,speed)\n",
    "plt.plot(age,y_pred,color='b')\n",
    "plt.show()"
   ]
  },
  {
   "cell_type": "markdown",
   "id": "0d48dd77",
   "metadata": {},
   "source": [
    "# Using Sklearn"
   ]
  },
  {
   "cell_type": "code",
   "execution_count": 2,
   "id": "0dca6a03",
   "metadata": {},
   "outputs": [],
   "source": [
    "import numpy as np\n",
    "import pandas as pd\n",
    "import matplotlib.pyplot as plt"
   ]
  },
  {
   "cell_type": "code",
   "execution_count": 3,
   "id": "d6825106",
   "metadata": {},
   "outputs": [],
   "source": [
    "age=np.array([5,7,8,7,2,17,2,9,4,11,12,9,6])\n",
    "speed=np.array([99,86,87,88,111,86,103,87,94,78,77,85,86])"
   ]
  },
  {
   "cell_type": "code",
   "execution_count": 4,
   "id": "d46b0465",
   "metadata": {},
   "outputs": [],
   "source": [
    "df1=pd.Series(age,name=\"Age\")\n",
    "df2=pd.Series(speed,name=\"Speed\")\n",
    "df=pd.concat([df1,df2],axis=1)"
   ]
  },
  {
   "cell_type": "code",
   "execution_count": 5,
   "id": "6e316c51",
   "metadata": {
    "scrolled": true
   },
   "outputs": [
    {
     "data": {
      "text/html": [
       "<div>\n",
       "<style scoped>\n",
       "    .dataframe tbody tr th:only-of-type {\n",
       "        vertical-align: middle;\n",
       "    }\n",
       "\n",
       "    .dataframe tbody tr th {\n",
       "        vertical-align: top;\n",
       "    }\n",
       "\n",
       "    .dataframe thead th {\n",
       "        text-align: right;\n",
       "    }\n",
       "</style>\n",
       "<table border=\"1\" class=\"dataframe\">\n",
       "  <thead>\n",
       "    <tr style=\"text-align: right;\">\n",
       "      <th></th>\n",
       "      <th>Age</th>\n",
       "      <th>Speed</th>\n",
       "    </tr>\n",
       "  </thead>\n",
       "  <tbody>\n",
       "    <tr>\n",
       "      <th>0</th>\n",
       "      <td>5</td>\n",
       "      <td>99</td>\n",
       "    </tr>\n",
       "    <tr>\n",
       "      <th>1</th>\n",
       "      <td>7</td>\n",
       "      <td>86</td>\n",
       "    </tr>\n",
       "    <tr>\n",
       "      <th>2</th>\n",
       "      <td>8</td>\n",
       "      <td>87</td>\n",
       "    </tr>\n",
       "    <tr>\n",
       "      <th>3</th>\n",
       "      <td>7</td>\n",
       "      <td>88</td>\n",
       "    </tr>\n",
       "    <tr>\n",
       "      <th>4</th>\n",
       "      <td>2</td>\n",
       "      <td>111</td>\n",
       "    </tr>\n",
       "  </tbody>\n",
       "</table>\n",
       "</div>"
      ],
      "text/plain": [
       "   Age  Speed\n",
       "0    5     99\n",
       "1    7     86\n",
       "2    8     87\n",
       "3    7     88\n",
       "4    2    111"
      ]
     },
     "execution_count": 5,
     "metadata": {},
     "output_type": "execute_result"
    }
   ],
   "source": [
    "df.head(5)"
   ]
  },
  {
   "cell_type": "code",
   "execution_count": 6,
   "id": "e03a572a",
   "metadata": {},
   "outputs": [],
   "source": [
    "X=df[['Age']]\n",
    "y=df[['Speed']]"
   ]
  },
  {
   "cell_type": "code",
   "execution_count": 7,
   "id": "86c790dc",
   "metadata": {},
   "outputs": [],
   "source": [
    "from sklearn.linear_model import LinearRegression"
   ]
  },
  {
   "cell_type": "code",
   "execution_count": 8,
   "id": "0a260f12",
   "metadata": {},
   "outputs": [],
   "source": [
    "model=LinearRegression()"
   ]
  },
  {
   "cell_type": "code",
   "execution_count": 9,
   "id": "ee123e4d",
   "metadata": {},
   "outputs": [
    {
     "data": {
      "text/plain": [
       "LinearRegression()"
      ]
     },
     "execution_count": 9,
     "metadata": {},
     "output_type": "execute_result"
    }
   ],
   "source": [
    "model.fit(X,y)"
   ]
  },
  {
   "cell_type": "code",
   "execution_count": 10,
   "id": "8ce0b610",
   "metadata": {},
   "outputs": [
    {
     "data": {
      "text/plain": [
       "array([103.10596026])"
      ]
     },
     "execution_count": 10,
     "metadata": {},
     "output_type": "execute_result"
    }
   ],
   "source": [
    "model.intercept_"
   ]
  },
  {
   "cell_type": "code",
   "execution_count": 11,
   "id": "da62adb6",
   "metadata": {},
   "outputs": [
    {
     "data": {
      "text/plain": [
       "array([[-1.75128771]])"
      ]
     },
     "execution_count": 11,
     "metadata": {},
     "output_type": "execute_result"
    }
   ],
   "source": [
    "model.coef_"
   ]
  },
  {
   "cell_type": "code",
   "execution_count": 12,
   "id": "e926c1b0",
   "metadata": {},
   "outputs": [
    {
     "data": {
      "text/plain": [
       "array([[94.34952171],\n",
       "       [90.84694628],\n",
       "       [89.09565857],\n",
       "       [90.84694628],\n",
       "       [99.60338484],\n",
       "       [73.33406917],\n",
       "       [99.60338484],\n",
       "       [87.34437086],\n",
       "       [96.10080942],\n",
       "       [83.84179544],\n",
       "       [82.09050773],\n",
       "       [87.34437086],\n",
       "       [92.598234  ]])"
      ]
     },
     "execution_count": 12,
     "metadata": {},
     "output_type": "execute_result"
    }
   ],
   "source": [
    "pred=model.predict(X)\n",
    "pred"
   ]
  },
  {
   "cell_type": "code",
   "execution_count": 13,
   "id": "a612999f",
   "metadata": {},
   "outputs": [
    {
     "data": {
      "text/plain": [
       "array([94.34952171, 90.84694628, 89.09565857, 90.84694628, 99.60338484,\n",
       "       73.33406917, 99.60338484, 87.34437086, 96.10080942, 83.84179544,\n",
       "       82.09050773, 87.34437086, 92.598234  ])"
      ]
     },
     "execution_count": 13,
     "metadata": {},
     "output_type": "execute_result"
    }
   ],
   "source": [
    "var=pred.flatten()\n",
    "var"
   ]
  },
  {
   "cell_type": "code",
   "execution_count": 14,
   "id": "13e0fe29",
   "metadata": {},
   "outputs": [
    {
     "data": {
      "text/plain": [
       "0.5754611008553381"
      ]
     },
     "execution_count": 14,
     "metadata": {},
     "output_type": "execute_result"
    }
   ],
   "source": [
    "#r2 score\n",
    "model.score(X,y)\n"
   ]
  },
  {
   "cell_type": "markdown",
   "id": "0f989dd1",
   "metadata": {},
   "source": [
    "We can calculate r2 score using sklearn.metrics:"
   ]
  },
  {
   "cell_type": "code",
   "execution_count": 15,
   "id": "c227db8a",
   "metadata": {},
   "outputs": [],
   "source": [
    "from sklearn.metrics import r2_score"
   ]
  },
  {
   "cell_type": "code",
   "execution_count": 16,
   "id": "9e03dbed",
   "metadata": {},
   "outputs": [
    {
     "data": {
      "text/plain": [
       "0.5754611008553381"
      ]
     },
     "execution_count": 16,
     "metadata": {},
     "output_type": "execute_result"
    }
   ],
   "source": [
    "r2_score(y,pred)"
   ]
  },
  {
   "cell_type": "code",
   "execution_count": 17,
   "id": "c1f4df59",
   "metadata": {},
   "outputs": [
    {
     "data": {
      "image/png": "[encoded data removed]",
      "text/plain": [
       "<Figure size 432x288 with 1 Axes>"
      ]
     },
     "metadata": {
      "needs_background": "light"
     },
     "output_type": "display_data"
    }
   ],
   "source": [
    "plt.scatter(df.Age,df.Speed)\n",
    "plt.plot(df.Age,var,c='r')\n",
    "plt.show()"
   ]
  },
  {
   "cell_type": "markdown",
   "id": "7582f8cb",
   "metadata": {},
   "source": [
    "New Example:"
   ]
  },
  {
   "cell_type": "code",
   "execution_count": 57,
   "id": "56f6bcc6",
   "metadata": {},
   "outputs": [],
   "source": [
    "import numpy as np\n",
    "import pandas as pd\n",
    "import matplotlib.pyplot as plt"
   ]
  },
  {
   "cell_type": "code",
   "execution_count": 58,
   "id": "7660faff",
   "metadata": {
    "scrolled": true
   },
   "outputs": [
    {
     "data": {
      "text/html": [
       "<div>\n",
       "<style scoped>\n",
       "    .dataframe tbody tr th:only-of-type {\n",
       "        vertical-align: middle;\n",
       "    }\n",
       "\n",
       "    .dataframe tbody tr th {\n",
       "        vertical-align: top;\n",
       "    }\n",
       "\n",
       "    .dataframe thead th {\n",
       "        text-align: right;\n",
       "    }\n",
       "</style>\n",
       "<table border=\"1\" class=\"dataframe\">\n",
       "  <thead>\n",
       "    <tr style=\"text-align: right;\">\n",
       "      <th></th>\n",
       "      <th>Area</th>\n",
       "      <th>Price</th>\n",
       "    </tr>\n",
       "  </thead>\n",
       "  <tbody>\n",
       "    <tr>\n",
       "      <th>0</th>\n",
       "      <td>2600</td>\n",
       "      <td>550000</td>\n",
       "    </tr>\n",
       "    <tr>\n",
       "      <th>1</th>\n",
       "      <td>3000</td>\n",
       "      <td>565000</td>\n",
       "    </tr>\n",
       "    <tr>\n",
       "      <th>2</th>\n",
       "      <td>3200</td>\n",
       "      <td>610000</td>\n",
       "    </tr>\n",
       "    <tr>\n",
       "      <th>3</th>\n",
       "      <td>3600</td>\n",
       "      <td>680000</td>\n",
       "    </tr>\n",
       "    <tr>\n",
       "      <th>4</th>\n",
       "      <td>4000</td>\n",
       "      <td>725000</td>\n",
       "    </tr>\n",
       "  </tbody>\n",
       "</table>\n",
       "</div>"
      ],
      "text/plain": [
       "   Area   Price\n",
       "0  2600  550000\n",
       "1  3000  565000\n",
       "2  3200  610000\n",
       "3  3600  680000\n",
       "4  4000  725000"
      ]
     },
     "execution_count": 58,
     "metadata": {},
     "output_type": "execute_result"
    }
   ],
   "source": [
    "df=pd.read_csv(\"House_prediction.csv\")\n",
    "df.head()"
   ]
  },
  {
   "cell_type": "code",
   "execution_count": 59,
   "id": "c0257232",
   "metadata": {},
   "outputs": [
    {
     "name": "stdout",
     "output_type": "stream",
     "text": [
      "<class 'pandas.core.frame.DataFrame'>\n",
      "RangeIndex: 5 entries, 0 to 4\n",
      "Data columns (total 2 columns):\n",
      " #   Column  Non-Null Count  Dtype\n",
      "---  ------  --------------  -----\n",
      " 0   Area    5 non-null      int64\n",
      " 1   Price   5 non-null      int64\n",
      "dtypes: int64(2)\n",
      "memory usage: 208.0 bytes\n"
     ]
    }
   ],
   "source": [
    "df.info()"
   ]
  },
  {
   "cell_type": "code",
   "execution_count": 60,
   "id": "5fff913e",
   "metadata": {},
   "outputs": [
    {
     "data": {
      "image/png": "[encoded data removed]",
      "text/plain": [
       "<Figure size 432x288 with 1 Axes>"
      ]
     },
     "metadata": {
      "needs_background": "light"
     },
     "output_type": "display_data"
    }
   ],
   "source": [
    "plt.scatter(df.Area,df.Price)\n",
    "plt.show()"
   ]
  },
  {
   "cell_type": "code",
   "execution_count": 65,
   "id": "fed92f2e",
   "metadata": {},
   "outputs": [],
   "source": [
    "X=df[['Area']]\n",
    "y=df[['Price']]"
   ]
  },
  {
   "cell_type": "code",
   "execution_count": 66,
   "id": "2d068796",
   "metadata": {},
   "outputs": [],
   "source": [
    "from sklearn.linear_model import LinearRegression"
   ]
  },
  {
   "cell_type": "code",
   "execution_count": 67,
   "id": "226d2d47",
   "metadata": {},
   "outputs": [],
   "source": [
    "model =LinearRegression()"
   ]
  },
  {
   "cell_type": "code",
   "execution_count": 69,
   "id": "ab7787a4",
   "metadata": {},
   "outputs": [
    {
     "data": {
      "text/plain": [
       "LinearRegression()"
      ]
     },
     "execution_count": 69,
     "metadata": {},
     "output_type": "execute_result"
    }
   ],
   "source": [
    "model.fit(X,y)"
   ]
  },
  {
   "cell_type": "code",
   "execution_count": 70,
   "id": "fd00e347",
   "metadata": {},
   "outputs": [
    {
     "data": {
      "text/plain": [
       "array([[135.78767123]])"
      ]
     },
     "execution_count": 70,
     "metadata": {},
     "output_type": "execute_result"
    }
   ],
   "source": [
    "model.coef_"
   ]
  },
  {
   "cell_type": "code",
   "execution_count": 71,
   "id": "834a5266",
   "metadata": {},
   "outputs": [
    {
     "data": {
      "text/plain": [
       "array([180616.43835616])"
      ]
     },
     "execution_count": 71,
     "metadata": {},
     "output_type": "execute_result"
    }
   ],
   "source": [
    "model.intercept_"
   ]
  },
  {
   "cell_type": "code",
   "execution_count": 72,
   "id": "b41e8617",
   "metadata": {},
   "outputs": [
    {
     "data": {
      "text/plain": [
       "0.9584301138199486"
      ]
     },
     "execution_count": 72,
     "metadata": {},
     "output_type": "execute_result"
    }
   ],
   "source": [
    "model.score(X,y)"
   ]
  },
  {
   "cell_type": "code",
   "execution_count": null,
   "id": "4f67c9c4",
   "metadata": {},
   "outputs": [],
   "source": []
  }
 ],
 "metadata": {
  "kernelspec": {
   "display_name": "Python 3 (ipykernel)",
   "language": "python",
   "name": "python3"
  },
  "language_info": {
   "codemirror_mode": {
    "name": "ipython",
    "version": 3
   },
   "file_extension": ".py",
   "mimetype": "text/x-python",
   "name": "python",
   "nbconvert_exporter": "python",
   "pygments_lexer": "ipython3",
   "version": "3.9.12"
  }
 },
 "nbformat": 4,
 "nbformat_minor": 5
}
